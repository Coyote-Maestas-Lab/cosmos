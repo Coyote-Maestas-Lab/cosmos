{
 "cells": [
  {
   "cell_type": "code",
   "execution_count": 1,
   "id": "0ca4ba98",
   "metadata": {},
   "outputs": [],
   "source": [
    "%load_ext autoreload\n",
    "%autoreload 2"
   ]
  },
  {
   "cell_type": "markdown",
   "id": "a61b388e",
   "metadata": {},
   "source": [
    "# Model Analyzer\n",
    "\n"
   ]
  },
  {
   "cell_type": "code",
   "execution_count": null,
   "id": "5490d013",
   "metadata": {},
   "outputs": [],
   "source": [
    "import os\n",
    "import sys\n",
    "\n",
    "import pandas as pd\n",
    "\n",
    "os.chdir(os.path.expanduser(\"~/Desktop/causeDMS\"))\n",
    "sys.path.append(os.path.expanduser(\"~/Desktop/causeDMS/src/\"))\n",
    "\n",
    "from cosmos import DMSData, PriorFactory, ModelBuilder, ModelAnalyzer"
   ]
  },
  {
   "cell_type": "code",
   "execution_count": 3,
   "id": "266872a7",
   "metadata": {},
   "outputs": [],
   "source": [
    "# Load the data\n",
    "\n",
    "pheno1, pheno2 = \"abundance\", \"surface2\"\n",
    "no_s_hat = False\n",
    "s_hat_flag = \"no_s_hat\" if no_s_hat else \"s_hat\"\n",
    "\n",
    "df = pd.read_csv(f\"test/data/kir21_effect_{pheno1}_{pheno2}.csv\")\n",
    "\n",
    "data_obj = DMSData(\n",
    "    df,\n",
    "    [pheno1, pheno2],\n",
    "    include_type=[\"missense\"],\n",
    "    exclude_type=[\n",
    "        \"synonymous\",\n",
    "        \"insertion1\",\n",
    "        \"insertion2\",\n",
    "        \"insertion3\",\n",
    "        \"deletion1\",\n",
    "        \"deletion2\",\n",
    "        \"deletion3\",\n",
    "    ],\n",
    "    min_num_variants_per_group=10,\n",
    ")\n",
    "prior = PriorFactory(data_obj)\n",
    "prior.gen_prior(\n",
    "    x_name=\"beta_hat_1\",\n",
    "    y_name=\"beta_hat_2\",\n",
    "    x_se_name=\"se_hat_1\",\n",
    "    x_gmm_n_components=2,\n",
    ")\n",
    "model = ModelBuilder(prior, \"test/data/results/\")"
   ]
  },
  {
   "cell_type": "markdown",
   "id": "25cacf6c",
   "metadata": {},
   "source": [
    "Un-comment the following cell if you have not run it already in the last notebook."
   ]
  },
  {
   "cell_type": "code",
   "execution_count": 4,
   "id": "85c2ca78",
   "metadata": {},
   "outputs": [],
   "source": [
    "# for i in range(1, 10):  # Limit the number of groups for testing\n",
    "#     print(f\"Running position {i}...\", end=\"\\r\")\n",
    "#     model.run_cosmos(\n",
    "#         i,\n",
    "#         no_s_hat=no_s_hat,\n",
    "#         suppress_pareto_warning=True,\n",
    "#     )"
   ]
  },
  {
   "cell_type": "markdown",
   "id": "9cb3a7df",
   "metadata": {},
   "source": [
    "The analyzer will automatically pick up the results from the `model`'s `path_directory` (in this case, `\"test/data/results/\"`)."
   ]
  },
  {
   "cell_type": "code",
   "execution_count": 5,
   "id": "3180ba5a",
   "metadata": {},
   "outputs": [],
   "source": [
    "analyzer = ModelAnalyzer(model, \"test/data/results/analysis/\", False)"
   ]
  },
  {
   "cell_type": "markdown",
   "id": "0dc4de58",
   "metadata": {},
   "source": [
    "For each position, the summary table generates:\n",
    "- `group`: The group that the position belongs to. Positions with insufficient number of variants will be merged into the same group. Refer to `DMSData` construction in `00_dms_data.ipynb` for details.\n",
    "- `model_rank{i}`: The `i`-th best model. (By default `i=1`)\n",
    "- `{parameter}_mean`: The mean estimate of the parameter. If `NaN`, the parameter is not in the model.\n",
    "- `{parameter}_std`: The error estimate of the parameter. If `NaN`, the parameter is not in the model."
   ]
  },
  {
   "cell_type": "code",
   "execution_count": 6,
   "id": "940bb48b",
   "metadata": {},
   "outputs": [
    {
     "data": {
      "text/html": [
       "<div>\n",
       "<style scoped>\n",
       "    .dataframe tbody tr th:only-of-type {\n",
       "        vertical-align: middle;\n",
       "    }\n",
       "\n",
       "    .dataframe tbody tr th {\n",
       "        vertical-align: top;\n",
       "    }\n",
       "\n",
       "    .dataframe thead th {\n",
       "        text-align: right;\n",
       "    }\n",
       "</style>\n",
       "<table border=\"1\" class=\"dataframe\">\n",
       "  <thead>\n",
       "    <tr style=\"text-align: right;\">\n",
       "      <th></th>\n",
       "      <th>position</th>\n",
       "      <th>group</th>\n",
       "      <th>model_rank1</th>\n",
       "      <th>tau_mean</th>\n",
       "      <th>tau_std</th>\n",
       "      <th>gamma_mean</th>\n",
       "      <th>gamma_std</th>\n",
       "    </tr>\n",
       "  </thead>\n",
       "  <tbody>\n",
       "    <tr>\n",
       "      <th>0</th>\n",
       "      <td>2</td>\n",
       "      <td>1</td>\n",
       "      <td>model_5</td>\n",
       "      <td>NaN</td>\n",
       "      <td>NaN</td>\n",
       "      <td>0.629284</td>\n",
       "      <td>0.275893</td>\n",
       "    </tr>\n",
       "    <tr>\n",
       "      <th>1</th>\n",
       "      <td>3</td>\n",
       "      <td>2</td>\n",
       "      <td>model_5</td>\n",
       "      <td>NaN</td>\n",
       "      <td>NaN</td>\n",
       "      <td>0.717805</td>\n",
       "      <td>0.254125</td>\n",
       "    </tr>\n",
       "    <tr>\n",
       "      <th>2</th>\n",
       "      <td>4</td>\n",
       "      <td>3</td>\n",
       "      <td>model_6</td>\n",
       "      <td>0.474483</td>\n",
       "      <td>0.278360</td>\n",
       "      <td>0.680578</td>\n",
       "      <td>0.448206</td>\n",
       "    </tr>\n",
       "    <tr>\n",
       "      <th>3</th>\n",
       "      <td>5</td>\n",
       "      <td>4</td>\n",
       "      <td>model_6</td>\n",
       "      <td>0.475656</td>\n",
       "      <td>0.284296</td>\n",
       "      <td>1.253374</td>\n",
       "      <td>0.405198</td>\n",
       "    </tr>\n",
       "    <tr>\n",
       "      <th>4</th>\n",
       "      <td>6</td>\n",
       "      <td>5</td>\n",
       "      <td>model_6</td>\n",
       "      <td>0.413907</td>\n",
       "      <td>0.274230</td>\n",
       "      <td>0.736984</td>\n",
       "      <td>0.391255</td>\n",
       "    </tr>\n",
       "    <tr>\n",
       "      <th>5</th>\n",
       "      <td>7</td>\n",
       "      <td>6</td>\n",
       "      <td>model_6</td>\n",
       "      <td>0.464315</td>\n",
       "      <td>0.278957</td>\n",
       "      <td>0.734544</td>\n",
       "      <td>0.315520</td>\n",
       "    </tr>\n",
       "    <tr>\n",
       "      <th>6</th>\n",
       "      <td>8</td>\n",
       "      <td>7</td>\n",
       "      <td>model_6</td>\n",
       "      <td>0.301579</td>\n",
       "      <td>0.265880</td>\n",
       "      <td>0.924676</td>\n",
       "      <td>0.414763</td>\n",
       "    </tr>\n",
       "    <tr>\n",
       "      <th>7</th>\n",
       "      <td>9</td>\n",
       "      <td>8</td>\n",
       "      <td>model_6</td>\n",
       "      <td>1.227650</td>\n",
       "      <td>0.404221</td>\n",
       "      <td>1.112426</td>\n",
       "      <td>0.414872</td>\n",
       "    </tr>\n",
       "    <tr>\n",
       "      <th>8</th>\n",
       "      <td>10</td>\n",
       "      <td>9</td>\n",
       "      <td>model_5</td>\n",
       "      <td>NaN</td>\n",
       "      <td>NaN</td>\n",
       "      <td>0.486677</td>\n",
       "      <td>0.305256</td>\n",
       "    </tr>\n",
       "  </tbody>\n",
       "</table>\n",
       "</div>"
      ],
      "text/plain": [
       "   position  group model_rank1  tau_mean   tau_std  gamma_mean  gamma_std\n",
       "0         2      1     model_5       NaN       NaN    0.629284   0.275893\n",
       "1         3      2     model_5       NaN       NaN    0.717805   0.254125\n",
       "2         4      3     model_6  0.474483  0.278360    0.680578   0.448206\n",
       "3         5      4     model_6  0.475656  0.284296    1.253374   0.405198\n",
       "4         6      5     model_6  0.413907  0.274230    0.736984   0.391255\n",
       "5         7      6     model_6  0.464315  0.278957    0.734544   0.315520\n",
       "6         8      7     model_6  0.301579  0.265880    0.924676   0.414763\n",
       "7         9      8     model_6  1.227650  0.404221    1.112426   0.414872\n",
       "8        10      9     model_5       NaN       NaN    0.486677   0.305256"
      ]
     },
     "execution_count": 6,
     "metadata": {},
     "output_type": "execute_result"
    }
   ],
   "source": [
    "df_sum = analyzer.summary(rank=1, save=True)  # The summary table will be saved to the data_path\n",
    "df_sum"
   ]
  }
 ],
 "metadata": {
  "kernelspec": {
   "display_name": ".venv",
   "language": "python",
   "name": "python3"
  },
  "language_info": {
   "codemirror_mode": {
    "name": "ipython",
    "version": 3
   },
   "file_extension": ".py",
   "mimetype": "text/x-python",
   "name": "python",
   "nbconvert_exporter": "python",
   "pygments_lexer": "ipython3",
   "version": "3.12.2"
  }
 },
 "nbformat": 4,
 "nbformat_minor": 5
}
